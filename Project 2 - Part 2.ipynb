{
 "cells": [
  {
   "cell_type": "code",
   "execution_count": 215,
   "metadata": {},
   "outputs": [],
   "source": [
    "import pandas as pd\n",
    "from sklearn.tree import DecisionTreeClassifier\n",
    "from sklearn.linear_model import LogisticRegression\n",
    "from sklearn.preprocessing import StandardScaler, MaxAbsScaler\n",
    "from sklearn.decomposition import PCA\n",
    "from sklearn import neighbors, linear_model\n",
    "from sklearn.metrics import confusion_matrix, classification_report, accuracy_score\n",
    "from sklearn.datasets import load_digits\n",
    "from sklearn.svm import SVC\n",
    "from sklearn.model_selection import train_test_split, cross_val_score, GridSearchCV\n",
    "import matplotlib.pyplot as plt\n",
    "from sklearn.pipeline import Pipeline\n",
    "from sklearn.ensemble import RandomForestClassifier, AdaBoostClassifier\n",
    "\n",
    "\n",
    "%matplotlib inline"
   ]
  },
  {
   "cell_type": "code",
   "execution_count": 216,
   "metadata": {},
   "outputs": [
    {
     "data": {
      "text/html": [
       "<div>\n",
       "<style scoped>\n",
       "    .dataframe tbody tr th:only-of-type {\n",
       "        vertical-align: middle;\n",
       "    }\n",
       "\n",
       "    .dataframe tbody tr th {\n",
       "        vertical-align: top;\n",
       "    }\n",
       "\n",
       "    .dataframe thead th {\n",
       "        text-align: right;\n",
       "    }\n",
       "</style>\n",
       "<table border=\"1\" class=\"dataframe\">\n",
       "  <thead>\n",
       "    <tr style=\"text-align: right;\">\n",
       "      <th></th>\n",
       "      <th>Name</th>\n",
       "      <th>DateTime</th>\n",
       "      <th>OutcomeType</th>\n",
       "      <th>OutcomeSubtype</th>\n",
       "      <th>AnimalType</th>\n",
       "      <th>SexuponOutcome</th>\n",
       "      <th>AgeuponOutcome</th>\n",
       "      <th>Breed</th>\n",
       "      <th>Color</th>\n",
       "      <th>IsMixed</th>\n",
       "      <th>...</th>\n",
       "      <th>Sex</th>\n",
       "      <th>IsIntact</th>\n",
       "      <th>IsNamed</th>\n",
       "      <th>ColorCategory</th>\n",
       "      <th>Year</th>\n",
       "      <th>Month</th>\n",
       "      <th>YearMonth</th>\n",
       "      <th>DayOfWeek</th>\n",
       "      <th>Date</th>\n",
       "      <th>IsHoliday</th>\n",
       "    </tr>\n",
       "    <tr>\n",
       "      <th>AnimalID</th>\n",
       "      <th></th>\n",
       "      <th></th>\n",
       "      <th></th>\n",
       "      <th></th>\n",
       "      <th></th>\n",
       "      <th></th>\n",
       "      <th></th>\n",
       "      <th></th>\n",
       "      <th></th>\n",
       "      <th></th>\n",
       "      <th></th>\n",
       "      <th></th>\n",
       "      <th></th>\n",
       "      <th></th>\n",
       "      <th></th>\n",
       "      <th></th>\n",
       "      <th></th>\n",
       "      <th></th>\n",
       "      <th></th>\n",
       "      <th></th>\n",
       "      <th></th>\n",
       "    </tr>\n",
       "  </thead>\n",
       "  <tbody>\n",
       "    <tr>\n",
       "      <th>A671945</th>\n",
       "      <td>Hambone</td>\n",
       "      <td>2014-12-02 18:22:00</td>\n",
       "      <td>Return_to_owner</td>\n",
       "      <td>NaN</td>\n",
       "      <td>Dog</td>\n",
       "      <td>Neutered Male</td>\n",
       "      <td>1 year</td>\n",
       "      <td>Shetland Sheepdog Mix</td>\n",
       "      <td>Brown/White</td>\n",
       "      <td>True</td>\n",
       "      <td>...</td>\n",
       "      <td>Male</td>\n",
       "      <td>Neutered/Spayed</td>\n",
       "      <td>True</td>\n",
       "      <td>Brown</td>\n",
       "      <td>2014</td>\n",
       "      <td>December</td>\n",
       "      <td>201412</td>\n",
       "      <td>Tuesday</td>\n",
       "      <td>2014-12-02</td>\n",
       "      <td>False</td>\n",
       "    </tr>\n",
       "    <tr>\n",
       "      <th>A656520</th>\n",
       "      <td>Emily</td>\n",
       "      <td>2013-10-13 12:44:00</td>\n",
       "      <td>Euthanasia</td>\n",
       "      <td>Suffering</td>\n",
       "      <td>Cat</td>\n",
       "      <td>Spayed Female</td>\n",
       "      <td>1 year</td>\n",
       "      <td>Domestic Shorthair Mix</td>\n",
       "      <td>Cream Tabby</td>\n",
       "      <td>True</td>\n",
       "      <td>...</td>\n",
       "      <td>Female</td>\n",
       "      <td>Neutered/Spayed</td>\n",
       "      <td>True</td>\n",
       "      <td>Cream</td>\n",
       "      <td>2013</td>\n",
       "      <td>October</td>\n",
       "      <td>201310</td>\n",
       "      <td>Sunday</td>\n",
       "      <td>2013-10-13</td>\n",
       "      <td>False</td>\n",
       "    </tr>\n",
       "    <tr>\n",
       "      <th>A686464</th>\n",
       "      <td>Pearce</td>\n",
       "      <td>2015-01-31 12:28:00</td>\n",
       "      <td>Adoption</td>\n",
       "      <td>Foster</td>\n",
       "      <td>Dog</td>\n",
       "      <td>Neutered Male</td>\n",
       "      <td>2 years</td>\n",
       "      <td>Pit Bull Mix</td>\n",
       "      <td>Blue/White</td>\n",
       "      <td>True</td>\n",
       "      <td>...</td>\n",
       "      <td>Male</td>\n",
       "      <td>Neutered/Spayed</td>\n",
       "      <td>True</td>\n",
       "      <td>Blue</td>\n",
       "      <td>2015</td>\n",
       "      <td>January</td>\n",
       "      <td>201501</td>\n",
       "      <td>Saturday</td>\n",
       "      <td>2015-01-31</td>\n",
       "      <td>False</td>\n",
       "    </tr>\n",
       "  </tbody>\n",
       "</table>\n",
       "<p>3 rows × 22 columns</p>\n",
       "</div>"
      ],
      "text/plain": [
       "             Name             DateTime      OutcomeType OutcomeSubtype  \\\n",
       "AnimalID                                                                 \n",
       "A671945   Hambone  2014-12-02 18:22:00  Return_to_owner            NaN   \n",
       "A656520     Emily  2013-10-13 12:44:00       Euthanasia      Suffering   \n",
       "A686464    Pearce  2015-01-31 12:28:00         Adoption         Foster   \n",
       "\n",
       "         AnimalType SexuponOutcome AgeuponOutcome                   Breed  \\\n",
       "AnimalID                                                                    \n",
       "A671945         Dog  Neutered Male         1 year   Shetland Sheepdog Mix   \n",
       "A656520         Cat  Spayed Female         1 year  Domestic Shorthair Mix   \n",
       "A686464         Dog  Neutered Male        2 years            Pit Bull Mix   \n",
       "\n",
       "                Color  IsMixed    ...        Sex         IsIntact IsNamed  \\\n",
       "AnimalID                          ...                                       \n",
       "A671945   Brown/White     True    ...       Male  Neutered/Spayed    True   \n",
       "A656520   Cream Tabby     True    ...     Female  Neutered/Spayed    True   \n",
       "A686464    Blue/White     True    ...       Male  Neutered/Spayed    True   \n",
       "\n",
       "         ColorCategory  Year     Month  YearMonth DayOfWeek        Date  \\\n",
       "AnimalID                                                                  \n",
       "A671945          Brown  2014  December     201412   Tuesday  2014-12-02   \n",
       "A656520          Cream  2013   October     201310    Sunday  2013-10-13   \n",
       "A686464           Blue  2015   January     201501  Saturday  2015-01-31   \n",
       "\n",
       "         IsHoliday  \n",
       "AnimalID            \n",
       "A671945      False  \n",
       "A656520      False  \n",
       "A686464      False  \n",
       "\n",
       "[3 rows x 22 columns]"
      ]
     },
     "execution_count": 216,
     "metadata": {},
     "output_type": "execute_result"
    }
   ],
   "source": [
    "animals = pd.read_csv('C:\\\\Users\\\\linoyel\\\\Documents\\\\Linoy\\\\Data Scientist course\\\\Project 2 - Kaggle - Shelter Animal Outcomes\\\\df_animals.csv', index_col='AnimalID')\n",
    "animals.head(3)"
   ]
  },
  {
   "cell_type": "markdown",
   "metadata": {},
   "source": [
    "First of all let's prepare an initial data frame with only useful columns for prediction:"
   ]
  },
  {
   "cell_type": "code",
   "execution_count": 217,
   "metadata": {},
   "outputs": [
    {
     "data": {
      "text/plain": [
       "array(['Name', 'DateTime', 'OutcomeType', 'OutcomeSubtype', 'AnimalType',\n",
       "       'SexuponOutcome', 'AgeuponOutcome', 'Breed', 'Color', 'IsMixed',\n",
       "       'AgeInYears', 'AgeCategory', 'Sex', 'IsIntact', 'IsNamed',\n",
       "       'ColorCategory', 'Year', 'Month', 'YearMonth', 'DayOfWeek', 'Date',\n",
       "       'IsHoliday'], dtype=object)"
      ]
     },
     "execution_count": 217,
     "metadata": {},
     "output_type": "execute_result"
    }
   ],
   "source": [
    "animals.columns.values"
   ]
  },
  {
   "cell_type": "code",
   "execution_count": 218,
   "metadata": {},
   "outputs": [
    {
     "data": {
      "text/html": [
       "<div>\n",
       "<style scoped>\n",
       "    .dataframe tbody tr th:only-of-type {\n",
       "        vertical-align: middle;\n",
       "    }\n",
       "\n",
       "    .dataframe tbody tr th {\n",
       "        vertical-align: top;\n",
       "    }\n",
       "\n",
       "    .dataframe thead th {\n",
       "        text-align: right;\n",
       "    }\n",
       "</style>\n",
       "<table border=\"1\" class=\"dataframe\">\n",
       "  <thead>\n",
       "    <tr style=\"text-align: right;\">\n",
       "      <th></th>\n",
       "      <th>AnimalType</th>\n",
       "      <th>Sex</th>\n",
       "      <th>IsNamed</th>\n",
       "      <th>IsMixed</th>\n",
       "      <th>IsIntact</th>\n",
       "      <th>AgeCategory</th>\n",
       "      <th>ColorCategory</th>\n",
       "      <th>OutcomeType</th>\n",
       "    </tr>\n",
       "    <tr>\n",
       "      <th>AnimalID</th>\n",
       "      <th></th>\n",
       "      <th></th>\n",
       "      <th></th>\n",
       "      <th></th>\n",
       "      <th></th>\n",
       "      <th></th>\n",
       "      <th></th>\n",
       "      <th></th>\n",
       "    </tr>\n",
       "  </thead>\n",
       "  <tbody>\n",
       "    <tr>\n",
       "      <th>A671945</th>\n",
       "      <td>Dog</td>\n",
       "      <td>Male</td>\n",
       "      <td>True</td>\n",
       "      <td>True</td>\n",
       "      <td>Neutered/Spayed</td>\n",
       "      <td>young adult</td>\n",
       "      <td>Brown</td>\n",
       "      <td>Return_to_owner</td>\n",
       "    </tr>\n",
       "    <tr>\n",
       "      <th>A656520</th>\n",
       "      <td>Cat</td>\n",
       "      <td>Female</td>\n",
       "      <td>True</td>\n",
       "      <td>True</td>\n",
       "      <td>Neutered/Spayed</td>\n",
       "      <td>young adult</td>\n",
       "      <td>Cream</td>\n",
       "      <td>Euthanasia</td>\n",
       "    </tr>\n",
       "    <tr>\n",
       "      <th>A686464</th>\n",
       "      <td>Dog</td>\n",
       "      <td>Male</td>\n",
       "      <td>True</td>\n",
       "      <td>True</td>\n",
       "      <td>Neutered/Spayed</td>\n",
       "      <td>young adult</td>\n",
       "      <td>Blue</td>\n",
       "      <td>Adoption</td>\n",
       "    </tr>\n",
       "    <tr>\n",
       "      <th>A683430</th>\n",
       "      <td>Cat</td>\n",
       "      <td>Male</td>\n",
       "      <td>False</td>\n",
       "      <td>True</td>\n",
       "      <td>Intact</td>\n",
       "      <td>newborn</td>\n",
       "      <td>Blue</td>\n",
       "      <td>Transfer</td>\n",
       "    </tr>\n",
       "    <tr>\n",
       "      <th>A667013</th>\n",
       "      <td>Dog</td>\n",
       "      <td>Male</td>\n",
       "      <td>False</td>\n",
       "      <td>False</td>\n",
       "      <td>Neutered/Spayed</td>\n",
       "      <td>young adult</td>\n",
       "      <td>Tan</td>\n",
       "      <td>Transfer</td>\n",
       "    </tr>\n",
       "  </tbody>\n",
       "</table>\n",
       "</div>"
      ],
      "text/plain": [
       "         AnimalType     Sex  IsNamed  IsMixed         IsIntact  AgeCategory  \\\n",
       "AnimalID                                                                      \n",
       "A671945         Dog    Male     True     True  Neutered/Spayed  young adult   \n",
       "A656520         Cat  Female     True     True  Neutered/Spayed  young adult   \n",
       "A686464         Dog    Male     True     True  Neutered/Spayed  young adult   \n",
       "A683430         Cat    Male    False     True           Intact      newborn   \n",
       "A667013         Dog    Male    False    False  Neutered/Spayed  young adult   \n",
       "\n",
       "         ColorCategory      OutcomeType  \n",
       "AnimalID                                 \n",
       "A671945          Brown  Return_to_owner  \n",
       "A656520          Cream       Euthanasia  \n",
       "A686464           Blue         Adoption  \n",
       "A683430           Blue         Transfer  \n",
       "A667013            Tan         Transfer  "
      ]
     },
     "execution_count": 218,
     "metadata": {},
     "output_type": "execute_result"
    }
   ],
   "source": [
    "columns = ['AnimalType', 'Sex', 'IsNamed', 'IsMixed', 'IsIntact', 'AgeCategory', 'ColorCategory', 'OutcomeType']\n",
    "animals = pd.DataFrame(animals, columns=columns)\n",
    "animals.head()"
   ]
  },
  {
   "cell_type": "code",
   "execution_count": 219,
   "metadata": {},
   "outputs": [],
   "source": [
    "animals['IsIntact'] = animals.IsIntact=='Intact'"
   ]
  },
  {
   "cell_type": "code",
   "execution_count": 220,
   "metadata": {},
   "outputs": [
    {
     "data": {
      "text/html": [
       "<div>\n",
       "<style scoped>\n",
       "    .dataframe tbody tr th:only-of-type {\n",
       "        vertical-align: middle;\n",
       "    }\n",
       "\n",
       "    .dataframe tbody tr th {\n",
       "        vertical-align: top;\n",
       "    }\n",
       "\n",
       "    .dataframe thead th {\n",
       "        text-align: right;\n",
       "    }\n",
       "</style>\n",
       "<table border=\"1\" class=\"dataframe\">\n",
       "  <thead>\n",
       "    <tr style=\"text-align: right;\">\n",
       "      <th></th>\n",
       "      <th>AnimalType</th>\n",
       "      <th>Sex</th>\n",
       "      <th>IsNamed</th>\n",
       "      <th>IsMixed</th>\n",
       "      <th>IsIntact</th>\n",
       "      <th>AgeCategory</th>\n",
       "      <th>ColorCategory</th>\n",
       "      <th>OutcomeType</th>\n",
       "    </tr>\n",
       "    <tr>\n",
       "      <th>AnimalID</th>\n",
       "      <th></th>\n",
       "      <th></th>\n",
       "      <th></th>\n",
       "      <th></th>\n",
       "      <th></th>\n",
       "      <th></th>\n",
       "      <th></th>\n",
       "      <th></th>\n",
       "    </tr>\n",
       "  </thead>\n",
       "  <tbody>\n",
       "    <tr>\n",
       "      <th>A671945</th>\n",
       "      <td>Dog</td>\n",
       "      <td>Male</td>\n",
       "      <td>True</td>\n",
       "      <td>True</td>\n",
       "      <td>False</td>\n",
       "      <td>young adult</td>\n",
       "      <td>Brown</td>\n",
       "      <td>Return_to_owner</td>\n",
       "    </tr>\n",
       "    <tr>\n",
       "      <th>A656520</th>\n",
       "      <td>Cat</td>\n",
       "      <td>Female</td>\n",
       "      <td>True</td>\n",
       "      <td>True</td>\n",
       "      <td>False</td>\n",
       "      <td>young adult</td>\n",
       "      <td>Cream</td>\n",
       "      <td>Euthanasia</td>\n",
       "    </tr>\n",
       "    <tr>\n",
       "      <th>A686464</th>\n",
       "      <td>Dog</td>\n",
       "      <td>Male</td>\n",
       "      <td>True</td>\n",
       "      <td>True</td>\n",
       "      <td>False</td>\n",
       "      <td>young adult</td>\n",
       "      <td>Blue</td>\n",
       "      <td>Adoption</td>\n",
       "    </tr>\n",
       "    <tr>\n",
       "      <th>A683430</th>\n",
       "      <td>Cat</td>\n",
       "      <td>Male</td>\n",
       "      <td>False</td>\n",
       "      <td>True</td>\n",
       "      <td>True</td>\n",
       "      <td>newborn</td>\n",
       "      <td>Blue</td>\n",
       "      <td>Transfer</td>\n",
       "    </tr>\n",
       "    <tr>\n",
       "      <th>A667013</th>\n",
       "      <td>Dog</td>\n",
       "      <td>Male</td>\n",
       "      <td>False</td>\n",
       "      <td>False</td>\n",
       "      <td>False</td>\n",
       "      <td>young adult</td>\n",
       "      <td>Tan</td>\n",
       "      <td>Transfer</td>\n",
       "    </tr>\n",
       "  </tbody>\n",
       "</table>\n",
       "</div>"
      ],
      "text/plain": [
       "         AnimalType     Sex  IsNamed  IsMixed  IsIntact  AgeCategory  \\\n",
       "AnimalID                                                               \n",
       "A671945         Dog    Male     True     True     False  young adult   \n",
       "A656520         Cat  Female     True     True     False  young adult   \n",
       "A686464         Dog    Male     True     True     False  young adult   \n",
       "A683430         Cat    Male    False     True      True      newborn   \n",
       "A667013         Dog    Male    False    False     False  young adult   \n",
       "\n",
       "         ColorCategory      OutcomeType  \n",
       "AnimalID                                 \n",
       "A671945          Brown  Return_to_owner  \n",
       "A656520          Cream       Euthanasia  \n",
       "A686464           Blue         Adoption  \n",
       "A683430           Blue         Transfer  \n",
       "A667013            Tan         Transfer  "
      ]
     },
     "execution_count": 220,
     "metadata": {},
     "output_type": "execute_result"
    }
   ],
   "source": [
    "animals.head()"
   ]
  },
  {
   "cell_type": "code",
   "execution_count": 268,
   "metadata": {},
   "outputs": [
    {
     "data": {
      "text/plain": [
       "(26710, 43)"
      ]
     },
     "execution_count": 268,
     "metadata": {},
     "output_type": "execute_result"
    }
   ],
   "source": [
    "animals.shape"
   ]
  },
  {
   "cell_type": "markdown",
   "metadata": {},
   "source": [
    "## Preprocess and split the data"
   ]
  },
  {
   "cell_type": "markdown",
   "metadata": {},
   "source": [
    "We saw earlier that dogs and cats have totally different behavior, that's why we've decided to split them in 2 data frames:"
   ]
  },
  {
   "cell_type": "code",
   "execution_count": 221,
   "metadata": {},
   "outputs": [
    {
     "data": {
      "text/html": [
       "<div>\n",
       "<style scoped>\n",
       "    .dataframe tbody tr th:only-of-type {\n",
       "        vertical-align: middle;\n",
       "    }\n",
       "\n",
       "    .dataframe tbody tr th {\n",
       "        vertical-align: top;\n",
       "    }\n",
       "\n",
       "    .dataframe thead th {\n",
       "        text-align: right;\n",
       "    }\n",
       "</style>\n",
       "<table border=\"1\" class=\"dataframe\">\n",
       "  <thead>\n",
       "    <tr style=\"text-align: right;\">\n",
       "      <th></th>\n",
       "      <th>AnimalType</th>\n",
       "      <th>IsNamed</th>\n",
       "      <th>IsMixed</th>\n",
       "      <th>IsIntact</th>\n",
       "      <th>OutcomeType</th>\n",
       "      <th>Sex_Female</th>\n",
       "      <th>Sex_Male</th>\n",
       "      <th>Sex_Unknown</th>\n",
       "      <th>AgeCategory_adult</th>\n",
       "      <th>AgeCategory_baby</th>\n",
       "      <th>...</th>\n",
       "      <th>ColorCategory_Ruddy</th>\n",
       "      <th>ColorCategory_Sable</th>\n",
       "      <th>ColorCategory_Seal</th>\n",
       "      <th>ColorCategory_Silver</th>\n",
       "      <th>ColorCategory_Tan</th>\n",
       "      <th>ColorCategory_Torbie</th>\n",
       "      <th>ColorCategory_Tortie</th>\n",
       "      <th>ColorCategory_Tricolor</th>\n",
       "      <th>ColorCategory_White</th>\n",
       "      <th>ColorCategory_Yellow</th>\n",
       "    </tr>\n",
       "    <tr>\n",
       "      <th>AnimalID</th>\n",
       "      <th></th>\n",
       "      <th></th>\n",
       "      <th></th>\n",
       "      <th></th>\n",
       "      <th></th>\n",
       "      <th></th>\n",
       "      <th></th>\n",
       "      <th></th>\n",
       "      <th></th>\n",
       "      <th></th>\n",
       "      <th></th>\n",
       "      <th></th>\n",
       "      <th></th>\n",
       "      <th></th>\n",
       "      <th></th>\n",
       "      <th></th>\n",
       "      <th></th>\n",
       "      <th></th>\n",
       "      <th></th>\n",
       "      <th></th>\n",
       "      <th></th>\n",
       "    </tr>\n",
       "  </thead>\n",
       "  <tbody>\n",
       "    <tr>\n",
       "      <th>A671945</th>\n",
       "      <td>Dog</td>\n",
       "      <td>True</td>\n",
       "      <td>True</td>\n",
       "      <td>False</td>\n",
       "      <td>Return_to_owner</td>\n",
       "      <td>0</td>\n",
       "      <td>1</td>\n",
       "      <td>0</td>\n",
       "      <td>0</td>\n",
       "      <td>0</td>\n",
       "      <td>...</td>\n",
       "      <td>0</td>\n",
       "      <td>0</td>\n",
       "      <td>0</td>\n",
       "      <td>0</td>\n",
       "      <td>0</td>\n",
       "      <td>0</td>\n",
       "      <td>0</td>\n",
       "      <td>0</td>\n",
       "      <td>0</td>\n",
       "      <td>0</td>\n",
       "    </tr>\n",
       "    <tr>\n",
       "      <th>A656520</th>\n",
       "      <td>Cat</td>\n",
       "      <td>True</td>\n",
       "      <td>True</td>\n",
       "      <td>False</td>\n",
       "      <td>Euthanasia</td>\n",
       "      <td>1</td>\n",
       "      <td>0</td>\n",
       "      <td>0</td>\n",
       "      <td>0</td>\n",
       "      <td>0</td>\n",
       "      <td>...</td>\n",
       "      <td>0</td>\n",
       "      <td>0</td>\n",
       "      <td>0</td>\n",
       "      <td>0</td>\n",
       "      <td>0</td>\n",
       "      <td>0</td>\n",
       "      <td>0</td>\n",
       "      <td>0</td>\n",
       "      <td>0</td>\n",
       "      <td>0</td>\n",
       "    </tr>\n",
       "    <tr>\n",
       "      <th>A686464</th>\n",
       "      <td>Dog</td>\n",
       "      <td>True</td>\n",
       "      <td>True</td>\n",
       "      <td>False</td>\n",
       "      <td>Adoption</td>\n",
       "      <td>0</td>\n",
       "      <td>1</td>\n",
       "      <td>0</td>\n",
       "      <td>0</td>\n",
       "      <td>0</td>\n",
       "      <td>...</td>\n",
       "      <td>0</td>\n",
       "      <td>0</td>\n",
       "      <td>0</td>\n",
       "      <td>0</td>\n",
       "      <td>0</td>\n",
       "      <td>0</td>\n",
       "      <td>0</td>\n",
       "      <td>0</td>\n",
       "      <td>0</td>\n",
       "      <td>0</td>\n",
       "    </tr>\n",
       "    <tr>\n",
       "      <th>A683430</th>\n",
       "      <td>Cat</td>\n",
       "      <td>False</td>\n",
       "      <td>True</td>\n",
       "      <td>True</td>\n",
       "      <td>Transfer</td>\n",
       "      <td>0</td>\n",
       "      <td>1</td>\n",
       "      <td>0</td>\n",
       "      <td>0</td>\n",
       "      <td>0</td>\n",
       "      <td>...</td>\n",
       "      <td>0</td>\n",
       "      <td>0</td>\n",
       "      <td>0</td>\n",
       "      <td>0</td>\n",
       "      <td>0</td>\n",
       "      <td>0</td>\n",
       "      <td>0</td>\n",
       "      <td>0</td>\n",
       "      <td>0</td>\n",
       "      <td>0</td>\n",
       "    </tr>\n",
       "    <tr>\n",
       "      <th>A667013</th>\n",
       "      <td>Dog</td>\n",
       "      <td>False</td>\n",
       "      <td>False</td>\n",
       "      <td>False</td>\n",
       "      <td>Transfer</td>\n",
       "      <td>0</td>\n",
       "      <td>1</td>\n",
       "      <td>0</td>\n",
       "      <td>0</td>\n",
       "      <td>0</td>\n",
       "      <td>...</td>\n",
       "      <td>0</td>\n",
       "      <td>0</td>\n",
       "      <td>0</td>\n",
       "      <td>0</td>\n",
       "      <td>1</td>\n",
       "      <td>0</td>\n",
       "      <td>0</td>\n",
       "      <td>0</td>\n",
       "      <td>0</td>\n",
       "      <td>0</td>\n",
       "    </tr>\n",
       "  </tbody>\n",
       "</table>\n",
       "<p>5 rows × 43 columns</p>\n",
       "</div>"
      ],
      "text/plain": [
       "         AnimalType  IsNamed  IsMixed  IsIntact      OutcomeType  Sex_Female  \\\n",
       "AnimalID                                                                       \n",
       "A671945         Dog     True     True     False  Return_to_owner           0   \n",
       "A656520         Cat     True     True     False       Euthanasia           1   \n",
       "A686464         Dog     True     True     False         Adoption           0   \n",
       "A683430         Cat    False     True      True         Transfer           0   \n",
       "A667013         Dog    False    False     False         Transfer           0   \n",
       "\n",
       "          Sex_Male  Sex_Unknown  AgeCategory_adult  AgeCategory_baby  \\\n",
       "AnimalID                                                               \n",
       "A671945          1            0                  0                 0   \n",
       "A656520          0            0                  0                 0   \n",
       "A686464          1            0                  0                 0   \n",
       "A683430          1            0                  0                 0   \n",
       "A667013          1            0                  0                 0   \n",
       "\n",
       "                  ...           ColorCategory_Ruddy  ColorCategory_Sable  \\\n",
       "AnimalID          ...                                                      \n",
       "A671945           ...                             0                    0   \n",
       "A656520           ...                             0                    0   \n",
       "A686464           ...                             0                    0   \n",
       "A683430           ...                             0                    0   \n",
       "A667013           ...                             0                    0   \n",
       "\n",
       "          ColorCategory_Seal  ColorCategory_Silver  ColorCategory_Tan  \\\n",
       "AnimalID                                                                \n",
       "A671945                    0                     0                  0   \n",
       "A656520                    0                     0                  0   \n",
       "A686464                    0                     0                  0   \n",
       "A683430                    0                     0                  0   \n",
       "A667013                    0                     0                  1   \n",
       "\n",
       "          ColorCategory_Torbie  ColorCategory_Tortie  ColorCategory_Tricolor  \\\n",
       "AnimalID                                                                       \n",
       "A671945                      0                     0                       0   \n",
       "A656520                      0                     0                       0   \n",
       "A686464                      0                     0                       0   \n",
       "A683430                      0                     0                       0   \n",
       "A667013                      0                     0                       0   \n",
       "\n",
       "          ColorCategory_White  ColorCategory_Yellow  \n",
       "AnimalID                                             \n",
       "A671945                     0                     0  \n",
       "A656520                     0                     0  \n",
       "A686464                     0                     0  \n",
       "A683430                     0                     0  \n",
       "A667013                     0                     0  \n",
       "\n",
       "[5 rows x 43 columns]"
      ]
     },
     "execution_count": 221,
     "metadata": {},
     "output_type": "execute_result"
    }
   ],
   "source": [
    "animals = pd.get_dummies(animals, columns=['Sex', 'AgeCategory', 'ColorCategory'])\n",
    "animals.head()"
   ]
  },
  {
   "cell_type": "code",
   "execution_count": 222,
   "metadata": {},
   "outputs": [],
   "source": [
    "dogs = animals.loc[animals['AnimalType'] == 'Dog'].drop(['AnimalType'], axis=1)\n",
    "cats = animals.loc[animals['AnimalType'] == 'Cat'].drop(['AnimalType'], axis=1)"
   ]
  },
  {
   "cell_type": "code",
   "execution_count": 223,
   "metadata": {},
   "outputs": [
    {
     "name": "stderr",
     "output_type": "stream",
     "text": [
      "C:\\Users\\linoyel\\AppData\\Local\\Continuum\\anaconda3\\lib\\site-packages\\sklearn\\model_selection\\_split.py:2026: FutureWarning: From version 0.21, test_size will always complement train_size unless both are specified.\n",
      "  FutureWarning)\n"
     ]
    }
   ],
   "source": [
    "X_dogs = dogs.drop(['OutcomeType'], axis=1)\n",
    "y_dogs = dogs.OutcomeType\n",
    "\n",
    "X_train_dogs, X_test_dogs, y_train_dogs, y_test_dogs = train_test_split(X_dogs, y_dogs, train_size=0.7, random_state=456784)"
   ]
  },
  {
   "cell_type": "code",
   "execution_count": 224,
   "metadata": {},
   "outputs": [
    {
     "name": "stderr",
     "output_type": "stream",
     "text": [
      "C:\\Users\\linoyel\\AppData\\Local\\Continuum\\anaconda3\\lib\\site-packages\\sklearn\\model_selection\\_split.py:2026: FutureWarning: From version 0.21, test_size will always complement train_size unless both are specified.\n",
      "  FutureWarning)\n"
     ]
    }
   ],
   "source": [
    "X_cats = cats.drop(['OutcomeType'], axis=1)\n",
    "y_cats = cats.OutcomeType\n",
    "\n",
    "X_train_cats, X_test_cats, y_train_cats, y_test_cats = train_test_split(X_cats, y_cats, train_size=0.7, random_state=456784)"
   ]
  },
  {
   "cell_type": "markdown",
   "metadata": {},
   "source": [
    "## Random Forest"
   ]
  },
  {
   "cell_type": "markdown",
   "metadata": {},
   "source": [
    "### Naive classification"
   ]
  },
  {
   "cell_type": "markdown",
   "metadata": {},
   "source": [
    "#### Dogs:"
   ]
  },
  {
   "cell_type": "code",
   "execution_count": 225,
   "metadata": {},
   "outputs": [
    {
     "name": "stdout",
     "output_type": "stream",
     "text": [
      "0.5857993586807146\n",
      "0.5483112441214194\n"
     ]
    }
   ],
   "source": [
    "clf_RF_dogs = RandomForestClassifier()\n",
    "clf_RF_dogs.fit(X_train_dogs, y_train_dogs)\n",
    "print(clf_RF_dogs.score(X_train_dogs, y_train_dogs))\n",
    "print(clf_RF_dogs.score(X_test_dogs, y_test_dogs))"
   ]
  },
  {
   "cell_type": "markdown",
   "metadata": {},
   "source": [
    "#### Cats:"
   ]
  },
  {
   "cell_type": "code",
   "execution_count": 226,
   "metadata": {},
   "outputs": [
    {
     "name": "stdout",
     "output_type": "stream",
     "text": [
      "0.7722657756072484\n",
      "0.7443045563549161\n"
     ]
    }
   ],
   "source": [
    "clf_RF_cats = RandomForestClassifier()\n",
    "clf_RF_cats.fit(X_train_cats, y_train_cats)\n",
    "print(clf_RF_cats.score(X_train_cats, y_train_cats))\n",
    "print(clf_RF_cats.score(X_test_cats, y_test_cats))"
   ]
  },
  {
   "cell_type": "markdown",
   "metadata": {},
   "source": [
    "We see that we get better results for cats"
   ]
  },
  {
   "cell_type": "markdown",
   "metadata": {},
   "source": [
    "### Feature importance"
   ]
  },
  {
   "cell_type": "code",
   "execution_count": 227,
   "metadata": {},
   "outputs": [
    {
     "name": "stdout",
     "output_type": "stream",
     "text": [
      "IsIntact                   0.329734\n",
      "IsNamed                    0.114357\n",
      "AgeCategory_baby           0.076876\n",
      "IsMixed                    0.064691\n",
      "AgeCategory_old            0.045062\n",
      "AgeCategory_young adult    0.036953\n",
      "AgeCategory_newborn        0.035464\n",
      "AgeCategory_adult          0.034594\n",
      "ColorCategory_Black        0.017999\n",
      "AgeCategory_young          0.017895\n",
      "ColorCategory_Brown        0.016817\n",
      "Sex_Female                 0.016790\n",
      "ColorCategory_Blue         0.015518\n",
      "ColorCategory_Red          0.015410\n",
      "ColorCategory_White        0.014801\n",
      "ColorCategory_Tricolor     0.014708\n",
      "ColorCategory_Tan          0.014703\n",
      "Sex_Male                   0.014020\n",
      "Sex_Unknown                0.011790\n",
      "ColorCategory_Yellow       0.011685\n",
      "ColorCategory_Sable        0.010928\n",
      "ColorCategory_Gray         0.010899\n",
      "ColorCategory_Buff         0.010630\n",
      "ColorCategory_Chocolate    0.010482\n",
      "ColorCategory_Cream        0.010256\n",
      "ColorCategory_Fawn         0.008797\n",
      "ColorCategory_Gold         0.006417\n",
      "ColorCategory_Silver       0.004942\n",
      "ColorCategory_Apricot      0.002950\n",
      "ColorCategory_Liver        0.002146\n",
      "ColorCategory_Orange       0.001668\n",
      "ColorCategory_Ruddy        0.000019\n",
      "ColorCategory_Agouti       0.000000\n",
      "ColorCategory_Lilac        0.000000\n",
      "ColorCategory_Flame        0.000000\n",
      "ColorCategory_Lynx         0.000000\n",
      "ColorCategory_Pink         0.000000\n",
      "ColorCategory_Calico       0.000000\n",
      "ColorCategory_Seal         0.000000\n",
      "ColorCategory_Torbie       0.000000\n",
      "ColorCategory_Tortie       0.000000\n",
      "dtype: float64\n"
     ]
    }
   ],
   "source": [
    "print(pd.Series(clf_RF_dogs.feature_importances_,\n",
    "                index=X_dogs.columns).sort_values(ascending=False))"
   ]
  },
  {
   "cell_type": "code",
   "execution_count": 230,
   "metadata": {},
   "outputs": [
    {
     "name": "stdout",
     "output_type": "stream",
     "text": [
      "IsIntact                   0.293598\n",
      "IsNamed                    0.173983\n",
      "AgeCategory_baby           0.157343\n",
      "AgeCategory_newborn        0.061387\n",
      "Sex_Unknown                0.058302\n",
      "AgeCategory_young adult    0.036635\n",
      "AgeCategory_old            0.026135\n",
      "AgeCategory_adult          0.025220\n",
      "Sex_Female                 0.025052\n",
      "Sex_Male                   0.020351\n",
      "IsMixed                    0.017916\n",
      "AgeCategory_young          0.010982\n",
      "ColorCategory_Black        0.010318\n",
      "ColorCategory_Brown        0.008628\n",
      "ColorCategory_Orange       0.008361\n",
      "ColorCategory_Blue         0.008154\n",
      "ColorCategory_White        0.007875\n",
      "ColorCategory_Gray         0.006826\n",
      "ColorCategory_Torbie       0.006053\n",
      "ColorCategory_Lynx         0.005980\n",
      "ColorCategory_Seal         0.005905\n",
      "ColorCategory_Cream        0.005567\n",
      "ColorCategory_Flame        0.004949\n",
      "ColorCategory_Calico       0.004175\n",
      "ColorCategory_Tortie       0.004142\n",
      "ColorCategory_Silver       0.002224\n",
      "ColorCategory_Chocolate    0.001679\n",
      "ColorCategory_Lilac        0.001416\n",
      "ColorCategory_Buff         0.000625\n",
      "ColorCategory_Pink         0.000128\n",
      "ColorCategory_Tan          0.000078\n",
      "ColorCategory_Tricolor     0.000012\n",
      "ColorCategory_Ruddy        0.000000\n",
      "ColorCategory_Sable        0.000000\n",
      "ColorCategory_Liver        0.000000\n",
      "ColorCategory_Red          0.000000\n",
      "ColorCategory_Gold         0.000000\n",
      "ColorCategory_Agouti       0.000000\n",
      "ColorCategory_Apricot      0.000000\n",
      "ColorCategory_Fawn         0.000000\n",
      "ColorCategory_Yellow       0.000000\n",
      "dtype: float64\n"
     ]
    }
   ],
   "source": [
    "print(pd.Series(clf_RF_cats.feature_importances_,\n",
    "                index=X_cats.columns).sort_values(ascending=False))"
   ]
  },
  {
   "cell_type": "code",
   "execution_count": 233,
   "metadata": {},
   "outputs": [
    {
     "data": {
      "text/plain": [
       "<matplotlib.axes._subplots.AxesSubplot at 0x47b7c8afd0>"
      ]
     },
     "execution_count": 233,
     "metadata": {},
     "output_type": "execute_result"
    },
    {
     "data": {
      "image/png": "[encoded data removed]",
      "text/plain": [
       "<matplotlib.figure.Figure at 0x47b7bea4e0>"
      ]
     },
     "metadata": {},
     "output_type": "display_data"
    }
   ],
   "source": [
    "f, (ax1, ax2) = plt.subplots(1, 2, figsize=(20, 5))\n",
    "pd.Series(clf_RF_dogs.feature_importances_,\n",
    "                index=X_dogs.columns).sort_values(ascending=False).plot(ax=ax1, title='Dogs')\n",
    "pd.Series(clf_RF_cats.feature_importances_,\n",
    "                index=X_cats.columns).sort_values(ascending=False).plot(ax=ax2, title='Cats')"
   ]
  },
  {
   "cell_type": "markdown",
   "metadata": {},
   "source": [
    "We see that features that contribute the most are similar for dogs and cats (IsIntact, IsNamed and AgeCategory_baby). Some of the color categories don't contibute at all, but the categories are different for dogs and cats. We'll drop the unimportant features for each animal type:"
   ]
  },
  {
   "cell_type": "code",
   "execution_count": 243,
   "metadata": {},
   "outputs": [],
   "source": [
    "dogs_fi = dogs.drop(['ColorCategory_Lilac', 'ColorCategory_Agouti', 'ColorCategory_Flame', 'ColorCategory_Pink', 'ColorCategory_Calico', 'ColorCategory_Seal', 'ColorCategory_Torbie', 'ColorCategory_Tortie', 'ColorCategory_Lynx' ], axis=1)\n",
    "cats_fi = cats.drop(['ColorCategory_Fawn', 'ColorCategory_Sable', 'ColorCategory_Liver', 'ColorCategory_Ruddy', 'ColorCategory_Red', 'ColorCategory_Agouti', 'ColorCategory_Apricot', 'ColorCategory_Gold', 'ColorCategory_Yellow'], axis=1)"
   ]
  },
  {
   "cell_type": "code",
   "execution_count": 263,
   "metadata": {},
   "outputs": [
    {
     "name": "stdout",
     "output_type": "stream",
     "text": [
      "(15593, 33)\n",
      "(11117, 33)\n"
     ]
    }
   ],
   "source": [
    "print(dogs_fi.shape)\n",
    "print(cats_fi.shape)"
   ]
  },
  {
   "cell_type": "code",
   "execution_count": 212,
   "metadata": {},
   "outputs": [
    {
     "name": "stderr",
     "output_type": "stream",
     "text": [
      "C:\\Users\\linoyel\\AppData\\Local\\Continuum\\anaconda3\\lib\\site-packages\\sklearn\\model_selection\\_split.py:2026: FutureWarning: From version 0.21, test_size will always complement train_size unless both are specified.\n",
      "  FutureWarning)\n"
     ]
    }
   ],
   "source": [
    "X_dogs = dogs_fi.drop(['OutcomeType'], axis=1)\n",
    "y_dogs = dogs_fi.OutcomeType\n",
    "\n",
    "X_train_dogs, X_test_dogs, y_train_dogs, y_test_dogs = train_test_split(X_dogs, y_dogs, train_size=0.7, random_state=456784)"
   ]
  },
  {
   "cell_type": "code",
   "execution_count": 213,
   "metadata": {},
   "outputs": [
    {
     "name": "stderr",
     "output_type": "stream",
     "text": [
      "C:\\Users\\linoyel\\AppData\\Local\\Continuum\\anaconda3\\lib\\site-packages\\sklearn\\model_selection\\_split.py:2026: FutureWarning: From version 0.21, test_size will always complement train_size unless both are specified.\n",
      "  FutureWarning)\n"
     ]
    }
   ],
   "source": [
    "X_cats = cats_fi.drop(['OutcomeType'], axis=1)\n",
    "y_cats = cats_fi.OutcomeType\n",
    "\n",
    "X_train_cats, X_test_cats, y_train_cats, y_test_cats = train_test_split(X_cats, y_cats, train_size=0.7, random_state=456784)"
   ]
  },
  {
   "cell_type": "markdown",
   "metadata": {},
   "source": [
    "### Grid search"
   ]
  },
  {
   "cell_type": "markdown",
   "metadata": {},
   "source": [
    "#### Dogs:"
   ]
  },
  {
   "cell_type": "code",
   "execution_count": 18,
   "metadata": {},
   "outputs": [
    {
     "name": "stdout",
     "output_type": "stream",
     "text": [
      "0.5590471827759963\n"
     ]
    },
    {
     "data": {
      "text/plain": [
       "{'max_depth': 9, 'min_samples_leaf': 5, 'min_samples_split': 40}"
      ]
     },
     "execution_count": 18,
     "metadata": {},
     "output_type": "execute_result"
    }
   ],
   "source": [
    "parameters = {\n",
    "    'max_depth': range(2, 10),\n",
    "    'min_samples_split': [30, 40, 50],\n",
    "    'min_samples_leaf': [5, 10, 15, 20, 30]}\n",
    "\n",
    "grid_search = GridSearchCV(clf_RF_dogs, parameters, cv=10)\n",
    "grid_search.fit(X_train_dogs, y_train_dogs)\n",
    "print(grid_search.best_score_)\n",
    "grid_search.best_params_"
   ]
  },
  {
   "cell_type": "code",
   "execution_count": 19,
   "metadata": {},
   "outputs": [
    {
     "name": "stdout",
     "output_type": "stream",
     "text": [
      "0.5476699444206926\n"
     ]
    }
   ],
   "source": [
    "print(grid_search.score(X_test_dogs, y_test_dogs))"
   ]
  },
  {
   "cell_type": "markdown",
   "metadata": {},
   "source": [
    "#### Cats:"
   ]
  },
  {
   "cell_type": "code",
   "execution_count": 20,
   "metadata": {},
   "outputs": [
    {
     "name": "stdout",
     "output_type": "stream",
     "text": [
      "0.7493895386197147\n"
     ]
    },
    {
     "data": {
      "text/plain": [
       "{'max_depth': 8, 'min_samples_leaf': 5, 'min_samples_split': 40}"
      ]
     },
     "execution_count": 20,
     "metadata": {},
     "output_type": "execute_result"
    }
   ],
   "source": [
    "parameters = {\n",
    "    'max_depth': range(2, 10),\n",
    "    'min_samples_split': [30, 40, 50],\n",
    "    'min_samples_leaf': [5, 10, 15, 20, 30]}\n",
    "\n",
    "grid_search = GridSearchCV(clf_RF_cats, parameters, cv=10)\n",
    "grid_search.fit(X_train_cats, y_train_cats)\n",
    "print(grid_search.best_score_)\n",
    "grid_search.best_params_"
   ]
  },
  {
   "cell_type": "code",
   "execution_count": 21,
   "metadata": {},
   "outputs": [
    {
     "name": "stdout",
     "output_type": "stream",
     "text": [
      "0.7502997601918465\n"
     ]
    }
   ],
   "source": [
    "print(grid_search.score(X_test_cats, y_test_cats))"
   ]
  },
  {
   "cell_type": "markdown",
   "metadata": {},
   "source": [
    "We see that the prediction is not so good, especially for dogs. Let's try a logistic regression model for them:"
   ]
  },
  {
   "cell_type": "markdown",
   "metadata": {},
   "source": [
    "# Logistic Regression (Dogs)\n"
   ]
  },
  {
   "cell_type": "markdown",
   "metadata": {},
   "source": [
    "### Naive classification"
   ]
  },
  {
   "cell_type": "code",
   "execution_count": 161,
   "metadata": {},
   "outputs": [
    {
     "name": "stderr",
     "output_type": "stream",
     "text": [
      "C:\\Users\\linoyel\\AppData\\Local\\Continuum\\anaconda3\\lib\\site-packages\\sklearn\\model_selection\\_split.py:2026: FutureWarning: From version 0.21, test_size will always complement train_size unless both are specified.\n",
      "  FutureWarning)\n"
     ]
    }
   ],
   "source": [
    "dogs_train, dogs_test = train_test_split(dogs, train_size=0.7, \n",
    "                              random_state=12345)"
   ]
  },
  {
   "cell_type": "code",
   "execution_count": 162,
   "metadata": {},
   "outputs": [],
   "source": [
    "X = dogs_train.drop('OutcomeType', axis=1)\n",
    "y = dogs_train['OutcomeType']\n",
    "\n",
    "clf_LR_dogs = LogisticRegression().fit(X, y)"
   ]
  },
  {
   "cell_type": "code",
   "execution_count": 163,
   "metadata": {},
   "outputs": [
    {
     "name": "stderr",
     "output_type": "stream",
     "text": [
      "C:\\Users\\linoyel\\AppData\\Local\\Continuum\\anaconda3\\lib\\site-packages\\ipykernel_launcher.py:1: SettingWithCopyWarning: \n",
      "A value is trying to be set on a copy of a slice from a DataFrame.\n",
      "Try using .loc[row_indexer,col_indexer] = value instead\n",
      "\n",
      "See the caveats in the documentation: http://pandas.pydata.org/pandas-docs/stable/indexing.html#indexing-view-versus-copy\n",
      "  \"\"\"Entry point for launching an IPython kernel.\n"
     ]
    },
    {
     "data": {
      "text/html": [
       "<div>\n",
       "<style scoped>\n",
       "    .dataframe tbody tr th:only-of-type {\n",
       "        vertical-align: middle;\n",
       "    }\n",
       "\n",
       "    .dataframe tbody tr th {\n",
       "        vertical-align: top;\n",
       "    }\n",
       "\n",
       "    .dataframe thead th {\n",
       "        text-align: right;\n",
       "    }\n",
       "</style>\n",
       "<table border=\"1\" class=\"dataframe\">\n",
       "  <thead>\n",
       "    <tr style=\"text-align: right;\">\n",
       "      <th></th>\n",
       "      <th>IsNamed</th>\n",
       "      <th>IsMixed</th>\n",
       "      <th>IsIntact</th>\n",
       "      <th>OutcomeType</th>\n",
       "      <th>Sex_Female</th>\n",
       "      <th>Sex_Male</th>\n",
       "      <th>Sex_Unknown</th>\n",
       "      <th>AgeCategory_adult</th>\n",
       "      <th>AgeCategory_baby</th>\n",
       "      <th>AgeCategory_newborn</th>\n",
       "      <th>...</th>\n",
       "      <th>ColorCategory_Sable</th>\n",
       "      <th>ColorCategory_Seal</th>\n",
       "      <th>ColorCategory_Silver</th>\n",
       "      <th>ColorCategory_Tan</th>\n",
       "      <th>ColorCategory_Torbie</th>\n",
       "      <th>ColorCategory_Tortie</th>\n",
       "      <th>ColorCategory_Tricolor</th>\n",
       "      <th>ColorCategory_White</th>\n",
       "      <th>ColorCategory_Yellow</th>\n",
       "      <th>OutcomeType prediction</th>\n",
       "    </tr>\n",
       "    <tr>\n",
       "      <th>AnimalID</th>\n",
       "      <th></th>\n",
       "      <th></th>\n",
       "      <th></th>\n",
       "      <th></th>\n",
       "      <th></th>\n",
       "      <th></th>\n",
       "      <th></th>\n",
       "      <th></th>\n",
       "      <th></th>\n",
       "      <th></th>\n",
       "      <th></th>\n",
       "      <th></th>\n",
       "      <th></th>\n",
       "      <th></th>\n",
       "      <th></th>\n",
       "      <th></th>\n",
       "      <th></th>\n",
       "      <th></th>\n",
       "      <th></th>\n",
       "      <th></th>\n",
       "      <th></th>\n",
       "    </tr>\n",
       "  </thead>\n",
       "  <tbody>\n",
       "    <tr>\n",
       "      <th>A668515</th>\n",
       "      <td>True</td>\n",
       "      <td>False</td>\n",
       "      <td>False</td>\n",
       "      <td>Adoption</td>\n",
       "      <td>1</td>\n",
       "      <td>0</td>\n",
       "      <td>0</td>\n",
       "      <td>0</td>\n",
       "      <td>1</td>\n",
       "      <td>0</td>\n",
       "      <td>...</td>\n",
       "      <td>0</td>\n",
       "      <td>0</td>\n",
       "      <td>0</td>\n",
       "      <td>0</td>\n",
       "      <td>0</td>\n",
       "      <td>0</td>\n",
       "      <td>0</td>\n",
       "      <td>1</td>\n",
       "      <td>0</td>\n",
       "      <td>Adoption</td>\n",
       "    </tr>\n",
       "    <tr>\n",
       "      <th>A707922</th>\n",
       "      <td>False</td>\n",
       "      <td>True</td>\n",
       "      <td>False</td>\n",
       "      <td>Transfer</td>\n",
       "      <td>0</td>\n",
       "      <td>1</td>\n",
       "      <td>0</td>\n",
       "      <td>0</td>\n",
       "      <td>0</td>\n",
       "      <td>0</td>\n",
       "      <td>...</td>\n",
       "      <td>0</td>\n",
       "      <td>0</td>\n",
       "      <td>0</td>\n",
       "      <td>0</td>\n",
       "      <td>0</td>\n",
       "      <td>0</td>\n",
       "      <td>0</td>\n",
       "      <td>0</td>\n",
       "      <td>0</td>\n",
       "      <td>Adoption</td>\n",
       "    </tr>\n",
       "    <tr>\n",
       "      <th>A697252</th>\n",
       "      <td>True</td>\n",
       "      <td>True</td>\n",
       "      <td>False</td>\n",
       "      <td>Adoption</td>\n",
       "      <td>0</td>\n",
       "      <td>1</td>\n",
       "      <td>0</td>\n",
       "      <td>0</td>\n",
       "      <td>0</td>\n",
       "      <td>0</td>\n",
       "      <td>...</td>\n",
       "      <td>0</td>\n",
       "      <td>0</td>\n",
       "      <td>0</td>\n",
       "      <td>0</td>\n",
       "      <td>0</td>\n",
       "      <td>0</td>\n",
       "      <td>0</td>\n",
       "      <td>1</td>\n",
       "      <td>0</td>\n",
       "      <td>Adoption</td>\n",
       "    </tr>\n",
       "    <tr>\n",
       "      <th>A697821</th>\n",
       "      <td>False</td>\n",
       "      <td>True</td>\n",
       "      <td>False</td>\n",
       "      <td>Transfer</td>\n",
       "      <td>1</td>\n",
       "      <td>0</td>\n",
       "      <td>0</td>\n",
       "      <td>0</td>\n",
       "      <td>0</td>\n",
       "      <td>0</td>\n",
       "      <td>...</td>\n",
       "      <td>0</td>\n",
       "      <td>0</td>\n",
       "      <td>0</td>\n",
       "      <td>0</td>\n",
       "      <td>0</td>\n",
       "      <td>0</td>\n",
       "      <td>0</td>\n",
       "      <td>1</td>\n",
       "      <td>0</td>\n",
       "      <td>Adoption</td>\n",
       "    </tr>\n",
       "    <tr>\n",
       "      <th>A651363</th>\n",
       "      <td>True</td>\n",
       "      <td>True</td>\n",
       "      <td>False</td>\n",
       "      <td>Return_to_owner</td>\n",
       "      <td>1</td>\n",
       "      <td>0</td>\n",
       "      <td>0</td>\n",
       "      <td>0</td>\n",
       "      <td>0</td>\n",
       "      <td>0</td>\n",
       "      <td>...</td>\n",
       "      <td>0</td>\n",
       "      <td>0</td>\n",
       "      <td>0</td>\n",
       "      <td>0</td>\n",
       "      <td>0</td>\n",
       "      <td>0</td>\n",
       "      <td>0</td>\n",
       "      <td>0</td>\n",
       "      <td>0</td>\n",
       "      <td>Adoption</td>\n",
       "    </tr>\n",
       "  </tbody>\n",
       "</table>\n",
       "<p>5 rows × 43 columns</p>\n",
       "</div>"
      ],
      "text/plain": [
       "          IsNamed  IsMixed  IsIntact      OutcomeType  Sex_Female  Sex_Male  \\\n",
       "AnimalID                                                                      \n",
       "A668515      True    False     False         Adoption           1         0   \n",
       "A707922     False     True     False         Transfer           0         1   \n",
       "A697252      True     True     False         Adoption           0         1   \n",
       "A697821     False     True     False         Transfer           1         0   \n",
       "A651363      True     True     False  Return_to_owner           1         0   \n",
       "\n",
       "          Sex_Unknown  AgeCategory_adult  AgeCategory_baby  \\\n",
       "AnimalID                                                     \n",
       "A668515             0                  0                 1   \n",
       "A707922             0                  0                 0   \n",
       "A697252             0                  0                 0   \n",
       "A697821             0                  0                 0   \n",
       "A651363             0                  0                 0   \n",
       "\n",
       "          AgeCategory_newborn           ...            ColorCategory_Sable  \\\n",
       "AnimalID                                ...                                  \n",
       "A668515                     0           ...                              0   \n",
       "A707922                     0           ...                              0   \n",
       "A697252                     0           ...                              0   \n",
       "A697821                     0           ...                              0   \n",
       "A651363                     0           ...                              0   \n",
       "\n",
       "          ColorCategory_Seal  ColorCategory_Silver  ColorCategory_Tan  \\\n",
       "AnimalID                                                                \n",
       "A668515                    0                     0                  0   \n",
       "A707922                    0                     0                  0   \n",
       "A697252                    0                     0                  0   \n",
       "A697821                    0                     0                  0   \n",
       "A651363                    0                     0                  0   \n",
       "\n",
       "          ColorCategory_Torbie  ColorCategory_Tortie  ColorCategory_Tricolor  \\\n",
       "AnimalID                                                                       \n",
       "A668515                      0                     0                       0   \n",
       "A707922                      0                     0                       0   \n",
       "A697252                      0                     0                       0   \n",
       "A697821                      0                     0                       0   \n",
       "A651363                      0                     0                       0   \n",
       "\n",
       "          ColorCategory_White  ColorCategory_Yellow  OutcomeType prediction  \n",
       "AnimalID                                                                     \n",
       "A668515                     1                     0                Adoption  \n",
       "A707922                     0                     0                Adoption  \n",
       "A697252                     1                     0                Adoption  \n",
       "A697821                     1                     0                Adoption  \n",
       "A651363                     0                     0                Adoption  \n",
       "\n",
       "[5 rows x 43 columns]"
      ]
     },
     "execution_count": 163,
     "metadata": {},
     "output_type": "execute_result"
    }
   ],
   "source": [
    "dogs_train['OutcomeType prediction'] = clf_LR_dogs.predict(X)\n",
    "dogs_train.head()"
   ]
  },
  {
   "cell_type": "code",
   "execution_count": 164,
   "metadata": {},
   "outputs": [
    {
     "data": {
      "text/html": [
       "<div>\n",
       "<style scoped>\n",
       "    .dataframe tbody tr th:only-of-type {\n",
       "        vertical-align: middle;\n",
       "    }\n",
       "\n",
       "    .dataframe tbody tr th {\n",
       "        vertical-align: top;\n",
       "    }\n",
       "\n",
       "    .dataframe thead th {\n",
       "        text-align: right;\n",
       "    }\n",
       "</style>\n",
       "<table border=\"1\" class=\"dataframe\">\n",
       "  <thead>\n",
       "    <tr style=\"text-align: right;\">\n",
       "      <th></th>\n",
       "      <th>Adoption</th>\n",
       "      <th>Died</th>\n",
       "      <th>Euthanasia</th>\n",
       "      <th>Return_to_owner</th>\n",
       "      <th>Transfer</th>\n",
       "    </tr>\n",
       "  </thead>\n",
       "  <tbody>\n",
       "    <tr>\n",
       "      <th>Adoption</th>\n",
       "      <td>3932</td>\n",
       "      <td>0</td>\n",
       "      <td>1</td>\n",
       "      <td>545</td>\n",
       "      <td>65</td>\n",
       "    </tr>\n",
       "    <tr>\n",
       "      <th>Died</th>\n",
       "      <td>6</td>\n",
       "      <td>0</td>\n",
       "      <td>1</td>\n",
       "      <td>7</td>\n",
       "      <td>24</td>\n",
       "    </tr>\n",
       "    <tr>\n",
       "      <th>Euthanasia</th>\n",
       "      <td>167</td>\n",
       "      <td>0</td>\n",
       "      <td>16</td>\n",
       "      <td>163</td>\n",
       "      <td>240</td>\n",
       "    </tr>\n",
       "    <tr>\n",
       "      <th>Return_to_owner</th>\n",
       "      <td>1559</td>\n",
       "      <td>0</td>\n",
       "      <td>1</td>\n",
       "      <td>1120</td>\n",
       "      <td>358</td>\n",
       "    </tr>\n",
       "    <tr>\n",
       "      <th>Transfer</th>\n",
       "      <td>1228</td>\n",
       "      <td>0</td>\n",
       "      <td>14</td>\n",
       "      <td>392</td>\n",
       "      <td>1076</td>\n",
       "    </tr>\n",
       "  </tbody>\n",
       "</table>\n",
       "</div>"
      ],
      "text/plain": [
       "                 Adoption  Died  Euthanasia  Return_to_owner  Transfer\n",
       "Adoption             3932     0           1              545        65\n",
       "Died                    6     0           1                7        24\n",
       "Euthanasia            167     0          16              163       240\n",
       "Return_to_owner      1559     0           1             1120       358\n",
       "Transfer             1228     0          14              392      1076"
      ]
     },
     "execution_count": 164,
     "metadata": {},
     "output_type": "execute_result"
    }
   ],
   "source": [
    "cm = confusion_matrix(y_true=dogs_train['OutcomeType'],\n",
    "                      y_pred=dogs_train['OutcomeType prediction'])\n",
    "pd.DataFrame(cm,\n",
    "             index=clf_LR_dogs.classes_,\n",
    "             columns=clf_LR_dogs.classes_)"
   ]
  },
  {
   "cell_type": "code",
   "execution_count": 165,
   "metadata": {},
   "outputs": [
    {
     "name": "stdout",
     "output_type": "stream",
     "text": [
      "                 precision    recall  f1-score   support\n",
      "\n",
      "       Adoption       0.57      0.87      0.69      4543\n",
      "           Died       0.00      0.00      0.00        38\n",
      "     Euthanasia       0.48      0.03      0.05       586\n",
      "Return_to_owner       0.50      0.37      0.43      3038\n",
      "       Transfer       0.61      0.40      0.48      2710\n",
      "\n",
      "    avg / total       0.55      0.56      0.53     10915\n",
      "\n"
     ]
    },
    {
     "name": "stderr",
     "output_type": "stream",
     "text": [
      "C:\\Users\\linoyel\\AppData\\Local\\Continuum\\anaconda3\\lib\\site-packages\\sklearn\\metrics\\classification.py:1135: UndefinedMetricWarning: Precision and F-score are ill-defined and being set to 0.0 in labels with no predicted samples.\n",
      "  'precision', 'predicted', average, warn_for)\n"
     ]
    }
   ],
   "source": [
    "print(classification_report(y_true=dogs_train['OutcomeType'],\n",
    "                            y_pred=dogs_train['OutcomeType prediction']))"
   ]
  },
  {
   "cell_type": "markdown",
   "metadata": {},
   "source": [
    "It's still only 55% for train. Maybe we can try to predict each outcome probability separately, and by that increase the overall prediction accuracy:"
   ]
  },
  {
   "cell_type": "code",
   "execution_count": 166,
   "metadata": {},
   "outputs": [
    {
     "data": {
      "text/plain": [
       "array(['Adoption', 'Transfer', 'Return_to_owner', 'Euthanasia', 'Died'],\n",
       "      dtype=object)"
      ]
     },
     "execution_count": 166,
     "metadata": {},
     "output_type": "execute_result"
    }
   ],
   "source": [
    "dogs_train['OutcomeType'].unique()"
   ]
  },
  {
   "cell_type": "code",
   "execution_count": 167,
   "metadata": {},
   "outputs": [
    {
     "name": "stdout",
     "output_type": "stream",
     "text": [
      "\n",
      "\n",
      " Adoption \n",
      " ========\n",
      "       False  True \n",
      "False   4881   1491\n",
      "True    1814   2729\n",
      "             precision    recall  f1-score   support\n",
      "\n",
      "      False       0.73      0.77      0.75      6372\n",
      "       True       0.65      0.60      0.62      4543\n",
      "\n",
      "avg / total       0.69      0.70      0.70     10915\n",
      "\n",
      "\n",
      "\n",
      " Transfer \n",
      " ========\n",
      "       False  True \n",
      "False   7823    382\n",
      "True    1930    780\n",
      "             precision    recall  f1-score   support\n",
      "\n",
      "      False       0.80      0.95      0.87      8205\n",
      "       True       0.67      0.29      0.40      2710\n",
      "\n",
      "avg / total       0.77      0.79      0.75     10915\n",
      "\n",
      "\n",
      "\n",
      " Return_to_owner \n",
      " ===============\n",
      "       False  True \n",
      "False   7501    376\n",
      "True    2573    465\n",
      "             precision    recall  f1-score   support\n",
      "\n",
      "      False       0.74      0.95      0.84      7877\n",
      "       True       0.55      0.15      0.24      3038\n",
      "\n",
      "avg / total       0.69      0.73      0.67     10915\n",
      "\n",
      "\n",
      "\n",
      " Euthanasia \n",
      " ==========\n",
      "       False  True \n",
      "False  10314     15\n",
      "True     566     20\n",
      "             precision    recall  f1-score   support\n",
      "\n",
      "      False       0.95      1.00      0.97     10329\n",
      "       True       0.57      0.03      0.06       586\n",
      "\n",
      "avg / total       0.93      0.95      0.92     10915\n",
      "\n",
      "\n",
      "\n",
      " Died \n",
      " ====\n",
      "       False  True \n",
      "False  10877      0\n",
      "True      38      0\n",
      "             precision    recall  f1-score   support\n",
      "\n",
      "      False       1.00      1.00      1.00     10877\n",
      "       True       0.00      0.00      0.00        38\n",
      "\n",
      "avg / total       0.99      1.00      0.99     10915\n",
      "\n"
     ]
    },
    {
     "name": "stderr",
     "output_type": "stream",
     "text": [
      "C:\\Users\\linoyel\\AppData\\Local\\Continuum\\anaconda3\\lib\\site-packages\\sklearn\\metrics\\classification.py:1135: UndefinedMetricWarning: Precision and F-score are ill-defined and being set to 0.0 in labels with no predicted samples.\n",
      "  'precision', 'predicted', average, warn_for)\n"
     ]
    }
   ],
   "source": [
    "types = ['Adoption', 'Transfer', 'Return_to_owner', 'Euthanasia', 'Died']\n",
    "for typ in types:\n",
    "    print('\\n\\n', typ, '\\n', len(typ) * '=')\n",
    "    clf_LR_dogs = LogisticRegression().fit(X, y==typ)\n",
    "    \n",
    "    cm = confusion_matrix(y_true=y==typ, \n",
    "                          y_pred=clf_LR_dogs.predict(X))\n",
    "    print(pd.DataFrame(cm, \n",
    "                       index=clf_LR_dogs.classes_, \n",
    "                       columns=clf_LR_dogs.classes_))\n",
    "\n",
    "    print(classification_report(y_true=y==typ, \n",
    "                                y_pred=clf_LR_dogs.predict(X)))"
   ]
  },
  {
   "cell_type": "code",
   "execution_count": 168,
   "metadata": {},
   "outputs": [
    {
     "name": "stderr",
     "output_type": "stream",
     "text": [
      "C:\\Users\\linoyel\\AppData\\Local\\Continuum\\anaconda3\\lib\\site-packages\\ipykernel_launcher.py:3: SettingWithCopyWarning: \n",
      "A value is trying to be set on a copy of a slice from a DataFrame.\n",
      "Try using .loc[row_indexer,col_indexer] = value instead\n",
      "\n",
      "See the caveats in the documentation: http://pandas.pydata.org/pandas-docs/stable/indexing.html#indexing-view-versus-copy\n",
      "  This is separate from the ipykernel package so we can avoid doing imports until\n"
     ]
    }
   ],
   "source": [
    "for typ in types:\n",
    "    clf_LR_dogs = LogisticRegression().fit(X, y==typ)\n",
    "    dogs_train[typ + '_pred'] = clf_LR_dogs.predict_proba(X)[:, 1]"
   ]
  },
  {
   "cell_type": "code",
   "execution_count": 169,
   "metadata": {},
   "outputs": [],
   "source": [
    "def typ_predict(rec):\n",
    "    return rec.idxmax()[:-5]"
   ]
  },
  {
   "cell_type": "code",
   "execution_count": 170,
   "metadata": {},
   "outputs": [
    {
     "name": "stderr",
     "output_type": "stream",
     "text": [
      "C:\\Users\\linoyel\\AppData\\Local\\Continuum\\anaconda3\\lib\\site-packages\\ipykernel_launcher.py:1: SettingWithCopyWarning: \n",
      "A value is trying to be set on a copy of a slice from a DataFrame.\n",
      "Try using .loc[row_indexer,col_indexer] = value instead\n",
      "\n",
      "See the caveats in the documentation: http://pandas.pydata.org/pandas-docs/stable/indexing.html#indexing-view-versus-copy\n",
      "  \"\"\"Entry point for launching an IPython kernel.\n"
     ]
    },
    {
     "data": {
      "text/html": [
       "<div>\n",
       "<style scoped>\n",
       "    .dataframe tbody tr th:only-of-type {\n",
       "        vertical-align: middle;\n",
       "    }\n",
       "\n",
       "    .dataframe tbody tr th {\n",
       "        vertical-align: top;\n",
       "    }\n",
       "\n",
       "    .dataframe thead th {\n",
       "        text-align: right;\n",
       "    }\n",
       "</style>\n",
       "<table border=\"1\" class=\"dataframe\">\n",
       "  <thead>\n",
       "    <tr style=\"text-align: right;\">\n",
       "      <th></th>\n",
       "      <th>IsNamed</th>\n",
       "      <th>IsMixed</th>\n",
       "      <th>IsIntact</th>\n",
       "      <th>OutcomeType</th>\n",
       "      <th>Sex_Female</th>\n",
       "      <th>Sex_Male</th>\n",
       "      <th>Sex_Unknown</th>\n",
       "      <th>AgeCategory_adult</th>\n",
       "      <th>AgeCategory_baby</th>\n",
       "      <th>AgeCategory_newborn</th>\n",
       "      <th>...</th>\n",
       "      <th>ColorCategory_Tricolor</th>\n",
       "      <th>ColorCategory_White</th>\n",
       "      <th>ColorCategory_Yellow</th>\n",
       "      <th>OutcomeType prediction</th>\n",
       "      <th>Adoption_pred</th>\n",
       "      <th>Transfer_pred</th>\n",
       "      <th>Return_to_owner_pred</th>\n",
       "      <th>Euthanasia_pred</th>\n",
       "      <th>Died_pred</th>\n",
       "      <th>OutcomeType pred</th>\n",
       "    </tr>\n",
       "    <tr>\n",
       "      <th>AnimalID</th>\n",
       "      <th></th>\n",
       "      <th></th>\n",
       "      <th></th>\n",
       "      <th></th>\n",
       "      <th></th>\n",
       "      <th></th>\n",
       "      <th></th>\n",
       "      <th></th>\n",
       "      <th></th>\n",
       "      <th></th>\n",
       "      <th></th>\n",
       "      <th></th>\n",
       "      <th></th>\n",
       "      <th></th>\n",
       "      <th></th>\n",
       "      <th></th>\n",
       "      <th></th>\n",
       "      <th></th>\n",
       "      <th></th>\n",
       "      <th></th>\n",
       "      <th></th>\n",
       "    </tr>\n",
       "  </thead>\n",
       "  <tbody>\n",
       "    <tr>\n",
       "      <th>A668515</th>\n",
       "      <td>True</td>\n",
       "      <td>False</td>\n",
       "      <td>False</td>\n",
       "      <td>Adoption</td>\n",
       "      <td>1</td>\n",
       "      <td>0</td>\n",
       "      <td>0</td>\n",
       "      <td>0</td>\n",
       "      <td>1</td>\n",
       "      <td>0</td>\n",
       "      <td>...</td>\n",
       "      <td>0</td>\n",
       "      <td>1</td>\n",
       "      <td>0</td>\n",
       "      <td>Adoption</td>\n",
       "      <td>0.819483</td>\n",
       "      <td>0.185858</td>\n",
       "      <td>0.075098</td>\n",
       "      <td>0.002998</td>\n",
       "      <td>0.000992</td>\n",
       "      <td>Adoption</td>\n",
       "    </tr>\n",
       "    <tr>\n",
       "      <th>A707922</th>\n",
       "      <td>False</td>\n",
       "      <td>True</td>\n",
       "      <td>False</td>\n",
       "      <td>Transfer</td>\n",
       "      <td>0</td>\n",
       "      <td>1</td>\n",
       "      <td>0</td>\n",
       "      <td>0</td>\n",
       "      <td>0</td>\n",
       "      <td>0</td>\n",
       "      <td>...</td>\n",
       "      <td>0</td>\n",
       "      <td>0</td>\n",
       "      <td>0</td>\n",
       "      <td>Adoption</td>\n",
       "      <td>0.466668</td>\n",
       "      <td>0.277169</td>\n",
       "      <td>0.064641</td>\n",
       "      <td>0.090290</td>\n",
       "      <td>0.004170</td>\n",
       "      <td>Adoption</td>\n",
       "    </tr>\n",
       "    <tr>\n",
       "      <th>A697252</th>\n",
       "      <td>True</td>\n",
       "      <td>True</td>\n",
       "      <td>False</td>\n",
       "      <td>Adoption</td>\n",
       "      <td>0</td>\n",
       "      <td>1</td>\n",
       "      <td>0</td>\n",
       "      <td>0</td>\n",
       "      <td>0</td>\n",
       "      <td>0</td>\n",
       "      <td>...</td>\n",
       "      <td>0</td>\n",
       "      <td>1</td>\n",
       "      <td>0</td>\n",
       "      <td>Adoption</td>\n",
       "      <td>0.439583</td>\n",
       "      <td>0.181199</td>\n",
       "      <td>0.343111</td>\n",
       "      <td>0.029595</td>\n",
       "      <td>0.000717</td>\n",
       "      <td>Adoption</td>\n",
       "    </tr>\n",
       "    <tr>\n",
       "      <th>A697821</th>\n",
       "      <td>False</td>\n",
       "      <td>True</td>\n",
       "      <td>False</td>\n",
       "      <td>Transfer</td>\n",
       "      <td>1</td>\n",
       "      <td>0</td>\n",
       "      <td>0</td>\n",
       "      <td>0</td>\n",
       "      <td>0</td>\n",
       "      <td>0</td>\n",
       "      <td>...</td>\n",
       "      <td>0</td>\n",
       "      <td>1</td>\n",
       "      <td>0</td>\n",
       "      <td>Adoption</td>\n",
       "      <td>0.519430</td>\n",
       "      <td>0.295000</td>\n",
       "      <td>0.052441</td>\n",
       "      <td>0.079140</td>\n",
       "      <td>0.002992</td>\n",
       "      <td>Adoption</td>\n",
       "    </tr>\n",
       "    <tr>\n",
       "      <th>A651363</th>\n",
       "      <td>True</td>\n",
       "      <td>True</td>\n",
       "      <td>False</td>\n",
       "      <td>Return_to_owner</td>\n",
       "      <td>1</td>\n",
       "      <td>0</td>\n",
       "      <td>0</td>\n",
       "      <td>0</td>\n",
       "      <td>0</td>\n",
       "      <td>0</td>\n",
       "      <td>...</td>\n",
       "      <td>0</td>\n",
       "      <td>0</td>\n",
       "      <td>0</td>\n",
       "      <td>Adoption</td>\n",
       "      <td>0.521581</td>\n",
       "      <td>0.142930</td>\n",
       "      <td>0.308826</td>\n",
       "      <td>0.029516</td>\n",
       "      <td>0.001016</td>\n",
       "      <td>Adoption</td>\n",
       "    </tr>\n",
       "  </tbody>\n",
       "</table>\n",
       "<p>5 rows × 49 columns</p>\n",
       "</div>"
      ],
      "text/plain": [
       "          IsNamed  IsMixed  IsIntact      OutcomeType  Sex_Female  Sex_Male  \\\n",
       "AnimalID                                                                      \n",
       "A668515      True    False     False         Adoption           1         0   \n",
       "A707922     False     True     False         Transfer           0         1   \n",
       "A697252      True     True     False         Adoption           0         1   \n",
       "A697821     False     True     False         Transfer           1         0   \n",
       "A651363      True     True     False  Return_to_owner           1         0   \n",
       "\n",
       "          Sex_Unknown  AgeCategory_adult  AgeCategory_baby  \\\n",
       "AnimalID                                                     \n",
       "A668515             0                  0                 1   \n",
       "A707922             0                  0                 0   \n",
       "A697252             0                  0                 0   \n",
       "A697821             0                  0                 0   \n",
       "A651363             0                  0                 0   \n",
       "\n",
       "          AgeCategory_newborn        ...         ColorCategory_Tricolor  \\\n",
       "AnimalID                             ...                                  \n",
       "A668515                     0        ...                              0   \n",
       "A707922                     0        ...                              0   \n",
       "A697252                     0        ...                              0   \n",
       "A697821                     0        ...                              0   \n",
       "A651363                     0        ...                              0   \n",
       "\n",
       "          ColorCategory_White  ColorCategory_Yellow  OutcomeType prediction  \\\n",
       "AnimalID                                                                      \n",
       "A668515                     1                     0                Adoption   \n",
       "A707922                     0                     0                Adoption   \n",
       "A697252                     1                     0                Adoption   \n",
       "A697821                     1                     0                Adoption   \n",
       "A651363                     0                     0                Adoption   \n",
       "\n",
       "          Adoption_pred  Transfer_pred  Return_to_owner_pred  Euthanasia_pred  \\\n",
       "AnimalID                                                                        \n",
       "A668515        0.819483       0.185858              0.075098         0.002998   \n",
       "A707922        0.466668       0.277169              0.064641         0.090290   \n",
       "A697252        0.439583       0.181199              0.343111         0.029595   \n",
       "A697821        0.519430       0.295000              0.052441         0.079140   \n",
       "A651363        0.521581       0.142930              0.308826         0.029516   \n",
       "\n",
       "          Died_pred  OutcomeType pred  \n",
       "AnimalID                               \n",
       "A668515    0.000992          Adoption  \n",
       "A707922    0.004170          Adoption  \n",
       "A697252    0.000717          Adoption  \n",
       "A697821    0.002992          Adoption  \n",
       "A651363    0.001016          Adoption  \n",
       "\n",
       "[5 rows x 49 columns]"
      ]
     },
     "execution_count": 170,
     "metadata": {},
     "output_type": "execute_result"
    }
   ],
   "source": [
    "dogs_train['OutcomeType pred'] = dogs_train.iloc[:,-5:].apply(typ_predict, axis=1)\n",
    "dogs_train.head()"
   ]
  },
  {
   "cell_type": "code",
   "execution_count": 171,
   "metadata": {},
   "outputs": [
    {
     "name": "stdout",
     "output_type": "stream",
     "text": [
      "                 precision    recall  f1-score   support\n",
      "\n",
      "       Adoption       0.57      0.87      0.69      4543\n",
      "           Died       0.00      0.00      0.00        38\n",
      "     Euthanasia       0.48      0.03      0.05       586\n",
      "Return_to_owner       0.50      0.37      0.43      3038\n",
      "       Transfer       0.61      0.40      0.48      2710\n",
      "\n",
      "    avg / total       0.55      0.56      0.53     10915\n",
      "\n"
     ]
    },
    {
     "name": "stderr",
     "output_type": "stream",
     "text": [
      "C:\\Users\\linoyel\\AppData\\Local\\Continuum\\anaconda3\\lib\\site-packages\\sklearn\\metrics\\classification.py:1135: UndefinedMetricWarning: Precision and F-score are ill-defined and being set to 0.0 in labels with no predicted samples.\n",
      "  'precision', 'predicted', average, warn_for)\n"
     ]
    }
   ],
   "source": [
    "print(classification_report(y_true=dogs_train['OutcomeType'], \n",
    "                            y_pred=dogs_train['OutcomeType pred']))"
   ]
  },
  {
   "cell_type": "markdown",
   "metadata": {},
   "source": [
    "Well, it didn't really help much, so there is no need to validate these results."
   ]
  },
  {
   "cell_type": "markdown",
   "metadata": {},
   "source": [
    "## KNN"
   ]
  },
  {
   "cell_type": "code",
   "execution_count": 174,
   "metadata": {},
   "outputs": [
    {
     "name": "stderr",
     "output_type": "stream",
     "text": [
      "C:\\Users\\linoyel\\AppData\\Local\\Continuum\\anaconda3\\lib\\site-packages\\sklearn\\model_selection\\_split.py:2026: FutureWarning: From version 0.21, test_size will always complement train_size unless both are specified.\n",
      "  FutureWarning)\n"
     ]
    }
   ],
   "source": [
    "X_dogs = dogs.drop(['OutcomeType'], axis=1)\n",
    "y_dogs = dogs.OutcomeType\n",
    "\n",
    "X_train_dogs, X_test_dogs, y_train_dogs, y_test_dogs = train_test_split(X_dogs, y_dogs, train_size=0.7, random_state=456784)"
   ]
  },
  {
   "cell_type": "code",
   "execution_count": 175,
   "metadata": {},
   "outputs": [
    {
     "name": "stderr",
     "output_type": "stream",
     "text": [
      "C:\\Users\\linoyel\\AppData\\Local\\Continuum\\anaconda3\\lib\\site-packages\\sklearn\\model_selection\\_split.py:2026: FutureWarning: From version 0.21, test_size will always complement train_size unless both are specified.\n",
      "  FutureWarning)\n"
     ]
    }
   ],
   "source": [
    "X_cats = cats.drop(['OutcomeType'], axis=1)\n",
    "y_cats = cats.OutcomeType\n",
    "\n",
    "X_train_cats, X_test_cats, y_train_cats, y_test_cats = train_test_split(X_cats, y_cats, train_size=0.7, random_state=456784)"
   ]
  },
  {
   "cell_type": "markdown",
   "metadata": {},
   "source": [
    "### Naive classification"
   ]
  },
  {
   "cell_type": "markdown",
   "metadata": {},
   "source": [
    "#### Dogs:"
   ]
  },
  {
   "cell_type": "code",
   "execution_count": 176,
   "metadata": {},
   "outputs": [
    {
     "name": "stdout",
     "output_type": "stream",
     "text": [
      "0.5340357306459002\n",
      "0.4927319367250962\n"
     ]
    }
   ],
   "source": [
    "clf_KNN_dogs = neighbors.KNeighborsClassifier()\n",
    "\n",
    "clf_KNN_dogs.fit(X_train_dogs, y_train_dogs)\n",
    "print(clf_KNN_dogs.score(X_train_dogs, y_train_dogs))\n",
    "print(clf_KNN_dogs.score(X_test_dogs, y_test_dogs))"
   ]
  },
  {
   "cell_type": "markdown",
   "metadata": {},
   "source": [
    "#### Cats:"
   ]
  },
  {
   "cell_type": "code",
   "execution_count": 177,
   "metadata": {},
   "outputs": [
    {
     "name": "stdout",
     "output_type": "stream",
     "text": [
      "0.7366662382727156\n",
      "0.7206235011990407\n"
     ]
    }
   ],
   "source": [
    "clf_KNN_cats = neighbors.KNeighborsClassifier()\n",
    "\n",
    "clf_KNN_cats.fit(X_train_cats, y_train_cats)\n",
    "print(clf_KNN_cats.score(X_train_cats, y_train_cats))\n",
    "print(clf_KNN_cats.score(X_test_cats, y_test_cats))"
   ]
  },
  {
   "cell_type": "markdown",
   "metadata": {},
   "source": [
    "### Pipeline"
   ]
  },
  {
   "cell_type": "markdown",
   "metadata": {},
   "source": [
    "#### Dogs:"
   ]
  },
  {
   "cell_type": "code",
   "execution_count": 26,
   "metadata": {},
   "outputs": [
    {
     "name": "stdout",
     "output_type": "stream",
     "text": [
      "results for 1 components:\n",
      "0.45616124599175445\n",
      "0.4450619923044036 \n",
      "\n",
      "results for 2 components:\n",
      "0.5205680256527714\n",
      "0.4848225737494656 \n",
      "\n",
      "results for 3 components:\n",
      "0.5398076042143839\n",
      "0.516887558785806 \n",
      "\n",
      "results for 4 components:\n",
      "0.5356848373797526\n",
      "0.49807610089781956 \n",
      "\n",
      "results for 5 components:\n",
      "0.5378836463582226\n",
      "0.5019238991021804 \n",
      "\n",
      "results for 6 components:\n",
      "0.5404489234997709\n",
      "0.5136810602821719 \n",
      "\n",
      "results for 7 components:\n",
      "0.5451213925790197\n",
      "0.519880290722531 \n",
      "\n",
      "results for 8 components:\n",
      "0.5405405405405406\n",
      "0.5085506626763574 \n",
      "\n",
      "results for 9 components:\n",
      "0.544388456252863\n",
      "0.5010688328345447 \n",
      "\n"
     ]
    }
   ],
   "source": [
    "for n in range (1,10):\n",
    "    steps = [('scale', StandardScaler()), ('reduce_dim', PCA(n)), ('clf', neighbors.KNeighborsClassifier())]\n",
    "    pipe = Pipeline(steps)    \n",
    "    \n",
    "    pipe.fit(X_train_dogs, y_train_dogs)\n",
    "\n",
    "    print(f'results for {n} components:')\n",
    "    print(pipe.score(X_train_dogs, y_train_dogs))\n",
    "    print(pipe.score(X_test_dogs, y_test_dogs), '\\n')"
   ]
  },
  {
   "cell_type": "markdown",
   "metadata": {},
   "source": [
    "PCA with 6 components has the best result for dogs: 51%"
   ]
  },
  {
   "cell_type": "markdown",
   "metadata": {},
   "source": [
    "#### Cats:"
   ]
  },
  {
   "cell_type": "code",
   "execution_count": 27,
   "metadata": {},
   "outputs": [
    {
     "name": "stdout",
     "output_type": "stream",
     "text": [
      "results for 1 components:\n",
      "0.6928415370774965\n",
      "0.6900479616306955 \n",
      "\n",
      "results for 2 components:\n",
      "0.7448914021334019\n",
      "0.7287170263788969 \n",
      "\n",
      "results for 3 components:\n",
      "0.729983292635908\n",
      "0.7140287769784173 \n",
      "\n",
      "results for 4 components:\n",
      "0.7508032386582701\n",
      "0.730515587529976 \n",
      "\n",
      "results for 5 components:\n",
      "0.7533736023647346\n",
      "0.7260191846522782 \n",
      "\n",
      "results for 6 components:\n",
      "0.742064002056291\n",
      "0.7284172661870504 \n",
      "\n",
      "results for 7 components:\n",
      "0.7393651201645033\n",
      "0.710431654676259 \n",
      "\n",
      "results for 8 components:\n",
      "0.7493895386197147\n",
      "0.7326139088729017 \n",
      "\n",
      "results for 9 components:\n",
      "0.7446343657627554\n",
      "0.7203237410071942 \n",
      "\n"
     ]
    }
   ],
   "source": [
    "for n in range (1,10):\n",
    "    steps = [('scale', StandardScaler()), ('reduce_dim', PCA(n)), ('clf', neighbors.KNeighborsClassifier())]\n",
    "    pipe = Pipeline(steps)    \n",
    "    \n",
    "    pipe.fit(X_train_cats, y_train_cats)\n",
    "\n",
    "    print(f'results for {n} components:')\n",
    "    print(pipe.score(X_train_cats, y_train_cats))\n",
    "    print(pipe.score(X_test_cats, y_test_cats), '\\n')"
   ]
  },
  {
   "cell_type": "markdown",
   "metadata": {},
   "source": [
    "PCA with 8 components has the best result for cats: 73%"
   ]
  },
  {
   "cell_type": "markdown",
   "metadata": {},
   "source": [
    "In overall we see that using scaling and PCA didn't improve the prediction much - probably cause we don't have too many features here anyway. If we compare the 3 models we used, Random Forest after feature reduction is better than KNN: 54% vs 51% for dogs and 75% vs 73% for cats. Logistic regression didn't improve the prediction accuracy. Lets's try to boost the Random Forest model:"
   ]
  },
  {
   "cell_type": "markdown",
   "metadata": {},
   "source": [
    "# Ensemble"
   ]
  },
  {
   "cell_type": "code",
   "execution_count": 191,
   "metadata": {},
   "outputs": [],
   "source": [
    "clf_base = AdaBoostClassifier(RandomForestClassifier(max_depth = 3))"
   ]
  },
  {
   "cell_type": "code",
   "execution_count": 192,
   "metadata": {},
   "outputs": [
    {
     "data": {
      "text/plain": [
       "AdaBoostClassifier(algorithm='SAMME.R',\n",
       "          base_estimator=AdaBoostClassifier(algorithm='SAMME.R',\n",
       "          base_estimator=RandomForestClassifier(bootstrap=True, class_weight=None, criterion='gini',\n",
       "            max_depth=3, max_features='auto', max_leaf_nodes=None,\n",
       "            min_impurity_decrease=0.0, min_impurity_split=None,\n",
       "            m...e=0,\n",
       "            warm_start=False),\n",
       "          learning_rate=1.0, n_estimators=50, random_state=None),\n",
       "          learning_rate=0.01, n_estimators=200, random_state=None)"
      ]
     },
     "execution_count": 192,
     "metadata": {},
     "output_type": "execute_result"
    }
   ],
   "source": [
    "clf_adaboost = AdaBoostClassifier(base_estimator=clf_base,\n",
    "                                  n_estimators=200,\n",
    "                                  learning_rate=0.01)\n",
    "clf_adaboost.fit(X_train_cats, y_train_cats)"
   ]
  },
  {
   "cell_type": "code",
   "execution_count": 194,
   "metadata": {},
   "outputs": [
    {
     "name": "stdout",
     "output_type": "stream",
     "text": [
      "DT ADA boosting classifier:\n",
      "     \ttrain accuracy: 0.76\n",
      "     \ttest accuracy: 0.74\n",
      "                 precision    recall  f1-score   support\n",
      "\n",
      "       Adoption       0.71      0.90      0.80      1320\n",
      "           Died       0.00      0.00      0.00        46\n",
      "     Euthanasia       0.47      0.18      0.26       204\n",
      "Return_to_owner       0.26      0.03      0.06       154\n",
      "       Transfer       0.79      0.77      0.78      1612\n",
      "\n",
      "    avg / total       0.71      0.74      0.71      3336\n",
      "\n"
     ]
    },
    {
     "name": "stderr",
     "output_type": "stream",
     "text": [
      "C:\\Users\\linoyel\\AppData\\Local\\Continuum\\anaconda3\\lib\\site-packages\\sklearn\\metrics\\classification.py:1135: UndefinedMetricWarning: Precision and F-score are ill-defined and being set to 0.0 in labels with no predicted samples.\n",
      "  'precision', 'predicted', average, warn_for)\n"
     ]
    }
   ],
   "source": [
    "print(\"{:3} classifier:\\n \\\n",
    "    \\ttrain accuracy: {:.2f}\\n \\\n",
    "    \\ttest accuracy: {:.2f}\"\\\n",
    "    .format('DT ADA boosting', \n",
    "            clf_adaboost.score(X_train_cats, y_train_cats), \n",
    "            clf_adaboost.score(X_test_cats, y_test_cats)))\n",
    "print(classification_report(y_test_cats, clf_adaboost.predict(X_test_cats)))"
   ]
  },
  {
   "cell_type": "markdown",
   "metadata": {},
   "source": [
    "The boosting didn't improve the results. In conclusion, the best model out of the 3 models we've tried is Random Forest with the following results: 54% for dogs and 75% for cats. These results are not satisfactory. The next steps would be returning to feature selection and trying to find more features that can lead to a better prediction."
   ]
  }
 ],
 "metadata": {
  "kernelspec": {
   "display_name": "Python 3",
   "language": "python",
   "name": "python3"
  },
  "language_info": {
   "codemirror_mode": {
    "name": "ipython",
    "version": 3
   },
   "file_extension": ".py",
   "mimetype": "text/x-python",
   "name": "python",
   "nbconvert_exporter": "python",
   "pygments_lexer": "ipython3",
   "version": "3.6.4"
  }
 },
 "nbformat": 4,
 "nbformat_minor": 2
}
